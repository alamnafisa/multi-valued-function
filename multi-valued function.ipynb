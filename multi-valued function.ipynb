{
 "cells": [
  {
   "cell_type": "code",
   "execution_count": null,
   "metadata": {},
   "outputs": [],
   "source": [
    "#A multi-valued function has been defined as follows. a) Write a program to ask the user to enter a floating-point \n",
    "#real number, check whether the number is greater, equal or less than 5, then print the output according to the definition \n",
    "#of the multi-valued function. \n",
    "\n",
    "import math\n",
    "def baseFunction (x):\n",
    "    y = (x**2 / (abs(x) +2))\n",
    "    if x <5:\n",
    "        y= pow (y,2)\n",
    "    elif x==5:\n",
    "        y= y\n",
    "    elif x>5:\n",
    "        y= math.sqrt (y)\n",
    "        \n",
    "    return y \n",
    "\n",
    "p= float (input (\"Enter a floating point real number:\"))\n",
    "mainFunction= baseFunction (p)\n",
    "print (\"The value of f(x) is\", mainFunction)"
   ]
  },
  {
   "cell_type": "code",
   "execution_count": null,
   "metadata": {},
   "outputs": [],
   "source": [
    "#b) Round the output of Q1.a to the nearest integer, convert that integer to a list of \n",
    "#digits, then print the result \n",
    "\n",
    "round_Integer= round (mainFunction)\n",
    "\n",
    "strDigits= str (round_Integer)\n",
    "listDigit=[]\n",
    "\n",
    "for i in strDigits:\n",
    "    listDigit.append (int(i))\n",
    "print (\"The value of f(x) is\", mainFunction)\n",
    "print (\"The list of digit is\", listDigit)\n"
   ]
  },
  {
   "cell_type": "code",
   "execution_count": null,
   "metadata": {},
   "outputs": [],
   "source": [
    "#c) Find and print the Median, Average and Mode of the generated list in Q1.b. \n",
    "\n",
    "import statistics as st\n",
    "from statistics import StatisticsError\n",
    "\n",
    "medianval= st.median (listDigit)\n",
    "totaldigits= len (listDigit)\n",
    "sumOfDigits= sum (listDigit)\n",
    "\n",
    "AvgVal= sumOfDigits/totaldigits\n",
    "\n",
    "try:\n",
    "    ModeVal= st.mode (listDigit)\n",
    "    print(\"The mode is \",ModeVal)\n",
    "\n",
    "except StatisticsError:\n",
    "    ModeVal=\"No unique mode found\"\n",
    "\n",
    "print (\"The value of f(x) is\", mainFunction)\n",
    "print (\"The list of digit is\", listDigit)\n",
    "\n",
    "if type (ModeVal)==str:\n",
    "    print (\"The median is\", medianval, \",\",\"The average is\",AvgVal,\",\" , ModeVal)\n",
    "\n",
    "else:\n",
    "    print (\"The median is\", medianval, \",\",\"The average is\",AvgVal,\",\" ,\"The mode is\", ModeVal)"
   ]
  },
  {
   "cell_type": "code",
   "execution_count": null,
   "metadata": {},
   "outputs": [],
   "source": [
    "#d)Find and print the sum of squares of all the numbers of the list generated in Q1.b. \n",
    "\n",
    "sumOfSquares= 0\n",
    "\n",
    "for num in listDigit:\n",
    "    z= num**2\n",
    "    sumOfSquares= sumOfSquares + z\n",
    "    num += 1\n",
    "\n",
    "print (\"The value of f(x) is\", mainFunction)\n",
    "print (\"The list of digit is\", listDigit)    \n",
    "print (\"The sum of squares is\", sumOfSquares)"
   ]
  },
  {
   "cell_type": "code",
   "execution_count": null,
   "metadata": {},
   "outputs": [],
   "source": [
    "#e) Find and print the least common multiple of the numbers in the list generated in Q1.b \n",
    "\n",
    "import math\n",
    "LCM = listDigit [0]\n",
    "\n",
    "for i in listDigit[1:]:\n",
    "    try:\n",
    "        LCM = LCM*i//math.gcd(LCM, i)\n",
    "    except ZeroDivisionError:\n",
    "        print (\"Division by zero occured.\")\n",
    "        continue\n",
    "\n",
    "print (\"The value of f(x) is\", mainFunction)\n",
    "print (\"The list of digit is\", listDigit)  \n",
    "print(\"The least common multiple is\", LCM)"
   ]
  },
  {
   "cell_type": "code",
   "execution_count": null,
   "metadata": {},
   "outputs": [],
   "source": [
    "#f) Find and print the binary rpresentation of the numbers in the list generated in Q1.b\n",
    "\n",
    "binlist=[]\n",
    "for i in listDigit:\n",
    "    i= bin (i)\n",
    "    nochr= i[2:]\n",
    "    binlist.append (nochr)\n",
    "\n",
    "print (\"The value of f(x) is\", mainFunction)\n",
    "print (\"The list of digit is\", listDigit)\n",
    "print (\"The binary representation is\", binlist)"
   ]
  },
  {
   "cell_type": "code",
   "execution_count": null,
   "metadata": {},
   "outputs": [],
   "source": []
  },
  {
   "cell_type": "code",
   "execution_count": null,
   "metadata": {},
   "outputs": [],
   "source": []
  },
  {
   "cell_type": "code",
   "execution_count": null,
   "metadata": {},
   "outputs": [],
   "source": []
  }
 ],
 "metadata": {
  "kernelspec": {
   "display_name": "Python 3",
   "language": "python",
   "name": "python3"
  },
  "language_info": {
   "codemirror_mode": {
    "name": "ipython",
    "version": 3
   },
   "file_extension": ".py",
   "mimetype": "text/x-python",
   "name": "python",
   "nbconvert_exporter": "python",
   "pygments_lexer": "ipython3",
   "version": "3.8.5"
  }
 },
 "nbformat": 4,
 "nbformat_minor": 4
}
